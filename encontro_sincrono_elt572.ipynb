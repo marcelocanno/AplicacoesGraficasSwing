{
  "nbformat": 4,
  "nbformat_minor": 0,
  "metadata": {
    "colab": {
      "provenance": [],
      "include_colab_link": true
    },
    "kernelspec": {
      "name": "python3",
      "display_name": "Python 3"
    },
    "language_info": {
      "name": "python"
    }
  },
  "cells": [
    {
      "cell_type": "markdown",
      "metadata": {
        "id": "view-in-github",
        "colab_type": "text"
      },
      "source": [
        "<a href=\"https://colab.research.google.com/github/marcelocanno/AplicacoesGraficasSwing/blob/main/encontro_sincrono_elt572.ipynb\" target=\"_parent\"><img src=\"https://colab.research.google.com/assets/colab-badge.svg\" alt=\"Open In Colab\"/></a>"
      ]
    },
    {
      "cell_type": "markdown",
      "metadata": {
        "id": "XMs13aiwfvaW"
      },
      "source": [
        "**Exercícios de python** - acesso liberado com email institucional da UFV"
      ]
    },
    {
      "cell_type": "markdown",
      "metadata": {
        "id": "CLQDHwQXhBoQ"
      },
      "source": [
        "**Elementos básicos da linguagem Python**"
      ]
    },
    {
      "cell_type": "markdown",
      "metadata": {
        "id": "NTj_MQPrhbpA"
      },
      "source": [
        "Exercício 01"
      ]
    },
    {
      "cell_type": "code",
      "metadata": {
        "id": "PnWw2gK3ftw6",
        "colab": {
          "base_uri": "https://localhost:8080/"
        },
        "outputId": "22bf5340-cfa1-4179-da19-1d42386da51f"
      },
      "source": [
        "print(\"Este programa calcula a área da circuferência\")\n",
        "raio = float(input(\"Informe o raio da circunferência: \"))\n",
        "pi = 3.14159\n",
        "area = pi * (raio**2)\n",
        "print(\"A área da circunferência é: \", area)"
      ],
      "execution_count": null,
      "outputs": [
        {
          "output_type": "stream",
          "name": "stdout",
          "text": [
            "Este programa calcula a área da circuferência\n",
            "Informe o raio da circunferência: 2\n",
            "A área da circunferência é:  12.56636\n"
          ]
        }
      ]
    },
    {
      "cell_type": "markdown",
      "metadata": {
        "id": "841btxmNheFC"
      },
      "source": [
        "Exercício 02"
      ]
    },
    {
      "cell_type": "code",
      "metadata": {
        "colab": {
          "base_uri": "https://localhost:8080/"
        },
        "id": "Jg52m_EfhwKn",
        "outputId": "f4ed643d-e6aa-453b-a715-a56ca93d310e"
      },
      "source": [
        "notaA = float(input(\"Informe a nota A do aluno com uma casa decimal: \"))\n",
        "notaB = float(input(\"Informe a nota B do aluno com uma casa decimal: \"))\n",
        "pesoA = 3.5\n",
        "pesoB = 7.5\n",
        "mediaPonderada = ((notaA * pesoA) + (notaB * pesoB)) / (pesoA + pesoB)\n",
        "mediaPonderada = round(mediaPonderada, 1)\n",
        "print(\"A média ponderada do aluno é: \", mediaPonderada)"
      ],
      "execution_count": null,
      "outputs": [
        {
          "output_type": "stream",
          "name": "stdout",
          "text": [
            "Informe a nota do aluno A com uma casa decimal: 7.8\n",
            "Informe a nota do aluno B com uma casa decimal: 9.2\n",
            "A média ponderada do aluno é:  8.8\n"
          ]
        }
      ]
    },
    {
      "cell_type": "markdown",
      "metadata": {
        "id": "XSaaC89amBso"
      },
      "source": [
        "Exercício 03\n"
      ]
    },
    {
      "cell_type": "code",
      "metadata": {
        "id": "QdFsWbvXmSs-"
      },
      "source": [
        "notaA = float(input(\"Informe a nota A do aluno com uma casa decimal: \"))\n",
        "notaB = float(input(\"Informe a nota B do aluno com uma casa decimal: \"))\n",
        "notaC = float(input(\"Informe a nota C do aluno com uma casa decimal: \"))\n",
        "pesoA = 2\n",
        "pesoB = 3\n",
        "pesoC = 5\n",
        "mediaPonderada = ((notaA * pesoA) + (notaB * pesoB) + (notaC * pesoC)) / (pesoA + pesoB + pesoC)\n",
        "mediaPonderada = round(mediaPonderada, 1)\n",
        "print(\"A média ponderada do aluno é: \", mediaPonderada)"
      ],
      "execution_count": null,
      "outputs": []
    },
    {
      "cell_type": "markdown",
      "metadata": {
        "id": "0i0hTbJqnAju"
      },
      "source": [
        "Exercício 04"
      ]
    },
    {
      "cell_type": "code",
      "metadata": {
        "colab": {
          "base_uri": "https://localhost:8080/"
        },
        "id": "eCTh_C4PnfVB",
        "outputId": "c95c8347-07d0-401d-950e-e2e5383a38d1"
      },
      "source": [
        "num = int(input(\"Informe um número >= 100 e <= 999: \"))\n",
        "if (num >= 100 and num <= 999):\n",
        "  unidades = num % 10\n",
        "  num = num // 10 # divisao inteira\n",
        "  dezenas = num % 10\n",
        "  num = num // 10\n",
        "  centenas = num % 10\n",
        "  print(\"Centenas: \", centenas)\n",
        "  print(\"Dezenas: \", dezenas)\n",
        "  print(\"Unidades: \", unidades)\n",
        "else:\n",
        "  print(\"O número informado não é >= 100 e <= 999.\")"
      ],
      "execution_count": null,
      "outputs": [
        {
          "output_type": "stream",
          "name": "stdout",
          "text": [
            "Informe um número >= 100 e <= 999: 134\n",
            "Centenas:  1\n",
            "Dezenas:  3\n",
            "Unidades:  4\n"
          ]
        }
      ]
    },
    {
      "cell_type": "markdown",
      "metadata": {
        "id": "nz58ViaRpfP_"
      },
      "source": [
        "Exercício 05"
      ]
    },
    {
      "cell_type": "code",
      "metadata": {
        "colab": {
          "base_uri": "https://localhost:8080/"
        },
        "id": "iIdIXD5Ppg9M",
        "outputId": "ae792f05-062a-403c-c3f3-016100dccb6c"
      },
      "source": [
        "num = int(input(\"Informe o número do funcionário: \"))\n",
        "horas = int(input(\"Informe o número de horas trabalhadas pelo funcionário: \"))\n",
        "valor_hora = float(input(\"Informe o valor/hora do funcionário: \"))\n",
        "salario = horas * valor_hora\n",
        "print(\"Número do funcionário: \", num)\n",
        "print(\"Salário a receber: \", salario)"
      ],
      "execution_count": null,
      "outputs": [
        {
          "output_type": "stream",
          "name": "stdout",
          "text": [
            "Informe o número do funcionário: 2314\n",
            "Informe o número de horas trabalhadas pelo funcionário: 12\n",
            "Informe o valor/hora do funcionário: 36.2\n",
            "Número do funcionário:  2314\n",
            "Salário a receber:  434.40000000000003\n"
          ]
        }
      ]
    },
    {
      "cell_type": "markdown",
      "metadata": {
        "id": "ANG_up8rrNi7"
      },
      "source": [
        "Exercício 06"
      ]
    },
    {
      "cell_type": "code",
      "metadata": {
        "colab": {
          "base_uri": "https://localhost:8080/"
        },
        "id": "NNNOuIm7rOyu",
        "outputId": "46455b50-af7f-4ff0-8938-ae41a2b43099"
      },
      "source": [
        "numA = int(input(\"Informe o valor A: \"))\n",
        "numB = int(input(\"Informe o valor B: \"))\n",
        "numC = int(input(\"Informe o valor C: \"))\n",
        "numD = int(input(\"Informe o valor D: \"))\n",
        "dif_prod = (numA*numB) - (numC*numD)\n",
        "print(\"(A*B) - (C*D) = \", dif_prod)"
      ],
      "execution_count": null,
      "outputs": [
        {
          "output_type": "stream",
          "name": "stdout",
          "text": [
            "Informe o valor A: 2\n",
            "Informe o valor B: 4\n",
            "Informe o valor C: 3\n",
            "Informe o valor D: 6\n",
            "(A*B) - (C*D) =  -10\n"
          ]
        }
      ]
    },
    {
      "cell_type": "markdown",
      "metadata": {
        "id": "xBqDm5RWuiW_"
      },
      "source": [
        "**Comandos básicos da liguagem Python**"
      ]
    },
    {
      "cell_type": "markdown",
      "metadata": {
        "id": "lYeD1pCnhhBL"
      },
      "source": [
        "Exercício 01"
      ]
    },
    {
      "cell_type": "code",
      "metadata": {
        "colab": {
          "base_uri": "https://localhost:8080/"
        },
        "id": "-pkFwFJVuoh2",
        "outputId": "21e59dc7-116c-4bc1-d39a-bf1087261876"
      },
      "source": [
        "for i in range (1,21,1): # um embaixo do outro\n",
        "  print(i)\n",
        "\n",
        "for i in range (1,21,1): # um ao lado do outro\n",
        "  print(i, end=\" \")"
      ],
      "execution_count": null,
      "outputs": [
        {
          "output_type": "stream",
          "name": "stdout",
          "text": [
            "1\n",
            "2\n",
            "3\n",
            "4\n",
            "5\n",
            "6\n",
            "7\n",
            "8\n",
            "9\n",
            "10\n",
            "11\n",
            "12\n",
            "13\n",
            "14\n",
            "15\n",
            "16\n",
            "17\n",
            "18\n",
            "19\n",
            "20\n",
            "1 2 3 4 5 6 7 8 9 10 11 12 13 14 15 16 17 18 19 20 "
          ]
        }
      ]
    },
    {
      "cell_type": "markdown",
      "metadata": {
        "id": "u7yjOtithlVX"
      },
      "source": [
        "Exercício 02"
      ]
    },
    {
      "cell_type": "code",
      "metadata": {
        "colab": {
          "base_uri": "https://localhost:8080/"
        },
        "id": "0SHN665cvfJY",
        "outputId": "a5decc1d-492c-43f9-a008-8bdc90b35a64"
      },
      "source": [
        "import numpy as np\n",
        "tamanho = int(input(\"Informe o tamanho do vetor: \"))\n",
        "vetor = np.empty(tamanho, dtype = float)\n",
        "cont = 0\n",
        "while (cont<tamanho): # le vetor\n",
        "  vetor[cont] = float(input(\"Digite o elemento de índice %d: \"%(cont)))\n",
        "  cont+=1\n",
        "\n",
        "# observe que cont=tamanho\n",
        "cont-=1 # aqui faz cont = tamanho-1\n",
        "print(\"\\nImprime elementos na ordem inversa...\")\n",
        "while (cont >= 0): # escreve posicoes vetor comecando pelo final e indo até o início\n",
        "  print(vetor[cont], end=\" \")\n",
        "  cont-=1"
      ],
      "execution_count": null,
      "outputs": [
        {
          "output_type": "stream",
          "name": "stdout",
          "text": [
            "Informe o tamanho do vetor: 3\n",
            "Digite o elemento de índice 0: 0\n",
            "Digite o elemento de índice 1: 1\n",
            "Digite o elemento de índice 2: 2\n",
            "\n",
            "Imprime elementos na ordem inversa...\n",
            "2.0 1.0 0.0 "
          ]
        }
      ]
    },
    {
      "cell_type": "markdown",
      "metadata": {
        "id": "i595pil0hqzj"
      },
      "source": [
        "Exercício 03"
      ]
    },
    {
      "cell_type": "code",
      "metadata": {
        "colab": {
          "base_uri": "https://localhost:8080/"
        },
        "id": "UydPZur4byom",
        "outputId": "6e86adb1-c879-4983-9b49-b9035fc7165c"
      },
      "source": [
        "caracteres = input(\"Digite 10 caracteres e pressione enter: \")\n",
        "contconsoante = 0\n",
        "if len(caracteres) != 10:\n",
        "  print(\"Você não digitou 10 caracteres.\")\n",
        "else:\n",
        "  caracteres = caracteres.lower()\n",
        "  for meucaracter in caracteres:\n",
        "    if (meucaracter not in \"aeiou\"):\n",
        "      contconsoante += 1\n",
        "  print(\"Dentre os caracteres que você digitou há %d consoantes\"%(contconsoante))"
      ],
      "execution_count": null,
      "outputs": [
        {
          "output_type": "stream",
          "name": "stdout",
          "text": [
            "Digite 10 caracteres e pressione enter: sabrina si\n",
            "Dentre os caracteres que você digitou há 6 consoantes\n"
          ]
        }
      ]
    },
    {
      "cell_type": "markdown",
      "metadata": {
        "id": "oiiqbcMihtsW"
      },
      "source": [
        "Exercício 04"
      ]
    },
    {
      "cell_type": "code",
      "metadata": {
        "colab": {
          "base_uri": "https://localhost:8080/"
        },
        "id": "EqoWZIlFgzw-",
        "outputId": "5e0d7d59-e0f9-4f62-eb4e-7aba77d88280"
      },
      "source": [
        "import numpy as np\n",
        "\n",
        "print(\"Informe a idade de 5 pessoas:\\n\")\n",
        "vetor = np.empty(5, dtype=int)\n",
        "maioridade = 18\n",
        "numMaior = 0\n",
        "\n",
        "for i in range(0,5,1):\n",
        "  vetor[i] = int(input())\n",
        "  if vetor[i] >= maioridade:\n",
        "    numMaior+=1\n",
        "print(\"%d pessoas já atingiram a maioridade.\" % numMaior)"
      ],
      "execution_count": null,
      "outputs": [
        {
          "output_type": "stream",
          "name": "stdout",
          "text": [
            "Informe a idade de 5 pessoas:\n",
            "\n",
            "12\n",
            "18\n",
            "13\n",
            "23\n",
            "56\n",
            "3 pessoas já atingiram a maioridade.\n"
          ]
        }
      ]
    },
    {
      "cell_type": "markdown",
      "metadata": {
        "id": "aNTUhRsHn5j7"
      },
      "source": [
        "Exercício 05"
      ]
    },
    {
      "cell_type": "code",
      "metadata": {
        "colab": {
          "base_uri": "https://localhost:8080/"
        },
        "id": "UEVKePiXn6wa",
        "outputId": "b15d35e4-5456-48fe-f3ae-3d107ea3dbf3"
      },
      "source": [
        "largura = int(input(\"Entre com a largura do retângulo: \"))\n",
        "altura = int(input(\"Entre com a altura do retângulo: \"))\n",
        "for i in range(0,altura,1):\n",
        "  if(i ==0 or i==(altura-1)):\n",
        "    for j in range(0, largura, 1):\n",
        "      print(\"* \", end=\"\") # foi impresso um asterisco e 1 espaço\n",
        "    print()\n",
        "  else:\n",
        "    for j in range(0, largura, 1):\n",
        "      if(j==0 or j==(largura-1)):\n",
        "        print(\"* \", end=\"\")\n",
        "      else:\n",
        "        print(\"  \", end=\"\")\n",
        "    print()\n",
        "\n"
      ],
      "execution_count": null,
      "outputs": [
        {
          "output_type": "stream",
          "name": "stdout",
          "text": [
            "Entre com a largura do retângulo: 10\n",
            "Entre com a altura do retângulo: 6\n",
            "* * * * * * * * * * \n",
            "*                 * \n",
            "*                 * \n",
            "*                 * \n",
            "*                 * \n",
            "* * * * * * * * * * \n"
          ]
        }
      ]
    }
  ]
}